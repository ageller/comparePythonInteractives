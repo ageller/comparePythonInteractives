{
 "cells": [
  {
   "cell_type": "markdown",
   "id": "1158c731",
   "metadata": {},
   "source": [
    "# Matplotlib + [ipywidgets](https://ipywidgets.readthedocs.io/en/latest/)\n",
    "\n",
    "Test notebook for the [Voila](https://voila.readthedocs.io/en/stable/) server app.  To open with voila, type the following command into your terminal within this directory. \n",
    "\n",
    "```\n",
    "$ voila --enable_nbextensions=True\n",
    "```\n",
    "\n",
    "That will open a browser with the a list of notebooks.  Click on this one, and it will show the plot (and this markdown cell) in the browser.  You can't easily export a .html file, but you could use Voila to deploy the plot online, following [these instructions](https://voila.readthedocs.io/en/stable/deploy.html)."
   ]
  },
  {
   "cell_type": "code",
   "execution_count": null,
   "id": "540485ea",
   "metadata": {},
   "outputs": [],
   "source": [
    "import pandas as pd\n",
    "import numpy as np"
   ]
  },
  {
   "cell_type": "code",
   "execution_count": null,
   "id": "8db0e73c",
   "metadata": {
    "scrolled": false
   },
   "outputs": [],
   "source": [
    "# COVID-19 cases and deaths as a function of time for multiple countries\n",
    "# df = pd.read_csv('data/WHO-COVID-19-global-data.csv') # in case the WHO server goes down\n",
    "df = pd.read_csv('https://covid19.who.int/WHO-COVID-19-global-data.csv')\n",
    "\n",
    "# convert the date column to datetime objects for easier plotting and manipulation later on\n",
    "df['Date_reported'] = pd.to_datetime(df['Date_reported'])"
   ]
  },
  {
   "cell_type": "code",
   "execution_count": null,
   "id": "48912499",
   "metadata": {},
   "outputs": [],
   "source": [
    "# get all the available countries from the data \n",
    "availableCountries = df['Country'].unique().tolist()"
   ]
  },
  {
   "cell_type": "code",
   "execution_count": null,
   "id": "cca7ebdb",
   "metadata": {},
   "outputs": [],
   "source": [
    "# I'll also want to take rolling means over 7 day intervals for each country\n",
    "rollingAve = 7\n",
    "\n",
    "# The DataFrame is already sorted by country, so I will just go through each country and append to a list\n",
    "r1 = []\n",
    "r2 = []\n",
    "r3 = []\n",
    "r4 = []\n",
    "for c in availableCountries:\n",
    "    usedf =  df.loc[df['Country'] == c]\n",
    "    r1 += usedf['New_cases'].rolling(rollingAve).mean().to_list()\n",
    "    r2 += usedf['New_deaths'].rolling(rollingAve).mean().to_list()\n",
    "    r3 += usedf['Cumulative_cases'].rolling(rollingAve).mean().to_list()\n",
    "    r4 += usedf['Cumulative_deaths'].rolling(rollingAve).mean().to_list()\n",
    "df['New_cases_rolling'] = np.nan_to_num(r1)\n",
    "df['New_deaths_rolling'] = np.nan_to_num(r2)\n",
    "df['Cumulative_cases_rolling'] = np.nan_to_num(r3)\n",
    "df['Cumulative_deaths_rolling'] = np.nan_to_num(r4)"
   ]
  },
  {
   "cell_type": "code",
   "execution_count": null,
   "id": "2eb2a2e7",
   "metadata": {},
   "outputs": [],
   "source": [
    "%matplotlib widget\n",
    "import ipympl\n",
    "\n",
    "import ipywidgets as widgets\n",
    "import matplotlib.pyplot as plt\n",
    "import matplotlib.dates as mdates\n",
    "\n",
    "import mplcursors\n",
    "from IPython.display import display, clear_output"
   ]
  },
  {
   "cell_type": "code",
   "execution_count": null,
   "id": "3f87da05",
   "metadata": {},
   "outputs": [],
   "source": [
    "columns = ['New_cases_rolling', 'New_deaths_rolling', 'Cumulative_cases_rolling', 'Cumulative_deaths_rolling']\n",
    "options = ['Daily Cases', 'Daily Deaths', 'Cumulative Cases' ,'Cumulative Deaths']\n",
    "\n",
    "country = 'United States of America'\n",
    "column = 'New_cases_rolling'\n",
    "\n",
    "# create the initial plot\n",
    "usedf = df.loc[df['Country'] == country].reset_index(drop = True)\n",
    "\n",
    "# Create the initial plot with matplotlib\n",
    "fig, ax = plt.subplots(figsize = (13, 5))\n",
    "line, = ax.plot(usedf['Date_reported'], usedf[column], color = 'black', linewidth = 5)\n",
    "filled = ax.fill_between(usedf['Date_reported'], usedf[column], color = 'gray')\n",
    "\n",
    "# Format the x axis\n",
    "ax.xaxis.set_major_formatter(mdates.DateFormatter('%b-%Y'))\n",
    "ax.set_xlim(min(usedf['Date_reported']),max(usedf['Date_reported']))\n",
    "ax.set_xlabel('Date', fontsize = 14, labelpad = 14)\n",
    "\n",
    "# Format the y axis\n",
    "ax.set_ylim(0,max(usedf[column]))\n",
    "ax.set_ylabel('COVID-19 Count\\n (7-day rolling average)', fontsize = 14, labelpad = 24)\n",
    "\n",
    "# Set the title \n",
    "ax.set_title('matplotlib+ipywidgets COVID-19 Data Explorer', fontsize = 16)\n",
    "\n",
    "# adjust the spacing\n",
    "fig.subplots_adjust(bottom = 0.15, left = 0.15)\n",
    "\n",
    "# add tooltips using mplcursors\n",
    "# https://mplcursors.readthedocs.io/en/stable/examples/hover.html\n",
    "mplcursors.cursor(hover=True)\n",
    "\n",
    "plt.show()"
   ]
  },
  {
   "cell_type": "code",
   "execution_count": null,
   "id": "71e75ccf",
   "metadata": {
    "scrolled": false
   },
   "outputs": [],
   "source": [
    "# function to update the plot data\n",
    "def updatePlot(country, column):\n",
    "    # select the correct country\n",
    "    usedf = df.loc[df['Country'] == country].reset_index(drop = True)\n",
    "    \n",
    "    # replace the data\n",
    "    # for the line\n",
    "    line.set_xdata(usedf['Date_reported'])\n",
    "    line.set_ydata(usedf[column])\n",
    "    \n",
    "    # the filled region is a poly collection and required different syntax\n",
    "    xData = mdates.date2num(usedf['Date_reported'])\n",
    "    yData = usedf[column].values\n",
    "    verts = [[x,y] for (x,y) in zip(xData, yData)]\n",
    "    # close the region\n",
    "    verts.append([xData[-1],0])\n",
    "    verts.append([xData[0], 0])\n",
    "    filled.set_verts([verts])\n",
    "    \n",
    "    # redraw the figure\n",
    "    fig.canvas.draw()\n",
    "    fig.canvas.flush_events()\n",
    "    \n",
    "    # rescale\n",
    "    ax.set_ylim(0,np.nanmax(usedf[column]))\n",
    "\n",
    "\n",
    "def changeCountry(change):\n",
    "    # called when the dropdown menu changes\n",
    "    global country\n",
    "    country = change.new\n",
    "    updatePlot(country, column)\n",
    "\n",
    "def changeColumn(change):\n",
    "    # called when the radio buttons changes\n",
    "    global column\n",
    "    index = options.index(change.new)\n",
    "    if (index >= 0):\n",
    "        column = columns[index]\n",
    "        updatePlot(country, column)\n",
    "    else:\n",
    "        print('bad radio button input', change.new, index)\n",
    "\n",
    "    \n",
    "# create the dropdown widget\n",
    "dropdown = widgets.Dropdown(\n",
    "    value = country, \n",
    "    options = availableCountries, \n",
    "    description = ''\n",
    ")\n",
    "# when the value changes, execute the callback function \"changeCountry\".\n",
    "dropdown.observe(changeCountry, names = 'value')\n",
    "\n",
    "# create the radio buton and attach them\n",
    "radiobuttons = widgets.RadioButtons(\n",
    "    value = 'Daily Cases', \n",
    "    options = options, \n",
    "    description = ''\n",
    ")\n",
    "radiobuttons.observe(changeColumn, names = 'value')\n",
    "\n",
    "\n",
    "# a VBox container to pack widgets vertically\n",
    "widgets.VBox(\n",
    "    [\n",
    "        dropdown, \n",
    "        radiobuttons,\n",
    "    ]\n",
    ")"
   ]
  }
 ],
 "metadata": {
  "kernelspec": {
   "display_name": "Python 3 (ipykernel)",
   "language": "python",
   "name": "python3"
  },
  "language_info": {
   "codemirror_mode": {
    "name": "ipython",
    "version": 3
   },
   "file_extension": ".py",
   "mimetype": "text/x-python",
   "name": "python",
   "nbconvert_exporter": "python",
   "pygments_lexer": "ipython3",
   "version": "3.9.7"
  }
 },
 "nbformat": 4,
 "nbformat_minor": 5
}
